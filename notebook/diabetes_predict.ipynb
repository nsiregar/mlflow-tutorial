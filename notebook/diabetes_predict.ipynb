{
 "cells": [
  {
   "cell_type": "code",
   "execution_count": 1,
   "id": "909bc397-d15c-427d-9ecf-142e81a9a7dd",
   "metadata": {},
   "outputs": [],
   "source": [
    "import mlflow\n",
    "\n",
    "from sklearn.model_selection import train_test_split\n",
    "from sklearn.datasets import load_diabetes\n"
   ]
  },
  {
   "cell_type": "code",
   "execution_count": 2,
   "id": "89658a66-4176-4b1c-b6ce-77ac1cb1de6d",
   "metadata": {},
   "outputs": [],
   "source": [
    "mlflow.set_tracking_uri('http://mlflow-web:5000')"
   ]
  },
  {
   "cell_type": "code",
   "execution_count": 5,
   "id": "4a8ebab3-e95c-4082-9dcc-b7f1de869df1",
   "metadata": {},
   "outputs": [
    {
     "name": "stdout",
     "output_type": "stream",
     "text": [
      "[ 99.66150573 174.35843242 104.00721459 223.88370517 148.3416039\n",
      " 205.53511526 217.09101206 230.55867418  84.43033668 239.60799708\n",
      " 121.54346196 110.41561388 228.25777128  75.517957   105.74427835\n",
      " 121.52719624 177.2451495  167.47372839 211.05543361 117.77431185\n",
      " 111.66622665 220.88072719 162.96157676 123.21036953 155.99388895\n",
      " 120.83638844 131.59262942 170.14705737  92.32995335 107.71942421\n",
      " 184.08272825 127.13500625  82.27583386 247.42528103 120.28987616\n",
      " 230.39030449 194.11478334 126.16724049 116.79716873 104.84385015\n",
      "  91.39423637 121.09455575 208.65395471  86.30522489 106.76412711\n",
      " 242.91175365 100.40839429  93.17238637 177.22751112  91.19326072\n",
      "  71.75845244  81.6956341  192.35777593 233.44769562 262.72327571\n",
      " 110.80519491 262.55093262 183.67581569 145.20137756 144.6539477\n",
      " 108.84194099 164.88281992 251.57904334 196.33638133 115.47869701\n",
      "  96.40831162 120.0822805  104.82952458 142.73819882 227.8750734\n",
      " 130.41152628 216.54728654 187.3645047  145.51759673 273.10133395\n",
      "  96.98704526 239.77497634  96.18077845  91.29880483 108.15489368\n",
      "  98.58266795  92.29432825 250.70963494 151.42809666 183.26287115\n",
      "  73.42989983 263.70840991 134.89396127 114.04582229 119.73222778\n",
      " 151.91918178 279.5232995  160.06740298 162.14267908  92.63049912\n",
      " 179.48992825 246.13788095 112.17067606 148.66609402  90.7617484\n",
      " 162.08764738 186.19832535 137.60258268 136.25651936 186.29843999\n",
      " 180.09967315  77.38731038 147.34930089 164.045145   229.46211452\n",
      " 192.88798863]\n"
     ]
    }
   ],
   "source": [
    "db = load_diabetes()\n",
    "X_train, X_test, y_train, y_test = train_test_split(db.data, db.target)\n",
    "\n",
    "model_name = \"Diabetes Model\"\n",
    "stage = \"Production\"\n",
    "model = mlflow.sklearn.load_model(model_uri=f\"models:/{model_name}/{stage}\")\n",
    "predictions = model.predict(X_test)\n",
    "print(predictions)"
   ]
  },
  {
   "cell_type": "code",
   "execution_count": null,
   "id": "d6091e29-3979-476f-9ea6-2116a2f2e994",
   "metadata": {},
   "outputs": [],
   "source": []
  }
 ],
 "metadata": {
  "kernelspec": {
   "display_name": "Python 3 (ipykernel)",
   "language": "python",
   "name": "python3"
  },
  "language_info": {
   "codemirror_mode": {
    "name": "ipython",
    "version": 3
   },
   "file_extension": ".py",
   "mimetype": "text/x-python",
   "name": "python",
   "nbconvert_exporter": "python",
   "pygments_lexer": "ipython3",
   "version": "3.11.4"
  }
 },
 "nbformat": 4,
 "nbformat_minor": 5
}
